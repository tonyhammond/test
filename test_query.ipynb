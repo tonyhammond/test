{
 "cells": [
  {
   "cell_type": "markdown",
   "metadata": {},
   "source": [
    "# TestQuery Notebook"
   ]
  },
  {
   "cell_type": "markdown",
   "metadata": {},
   "source": [
    "This is a test Jupyter notebook to accompany the post:\n",
    "\n",
    "<ul style=\"list-style-type: none;\">\n",
    "<li>[<b>Jupyter Notebooks with Elixir and RDF:</b><br/>Using IElixir in Jupyter Lab to explore SPARQL.ex](https://medium.com/@tonyhammond/jupyter-notebooks-with-elixir-and-rdf-598689c2dad3)\n",
    "</ul>\n",
    "\n",
    "And something, or other.\n",
    "\n",
    "We shall be using [IElixir](https://github.com/pprzetacznik/IElixir) which provides the Jupyter kernel for Elixir. We'll also be using the Elixir package [SPARQL.ex](https://hex.pm/packages/sparql) which provides for SPARQL support. \n",
    "\n",
    "\n",
    "Here's the overview:\n",
    "\n",
    "1. Setting up the environment\n",
    "2. Simple queries\n",
    "3. Install our TestQuery module\n",
    "4. Testing it out\n",
    "5. Etc.\n"
   ]
  },
  {
   "cell_type": "markdown",
   "metadata": {},
   "source": [
    "## 1. Setting up the environment"
   ]
  },
  {
   "cell_type": "markdown",
   "metadata": {},
   "source": [
    "&#x274F; ** Create `sparql_env`.**\n",
    "\n",
    "IElixir uses the concept of virtual environments for managing packages. It uses [`Boyle`](https://github.com/pprzetacznik/IElixir#package-management-with-boyle) as its package manager.\n",
    "\n",
    "Let's first create a `sparql_env` environment for our SPARQL dependencies using `Boyle.mk/1`. And note that we have previously created an `rdf_env` environment for exploring [RDF.ex](https://hex.pm/packages/rdf)."
   ]
  },
  {
   "cell_type": "code",
   "execution_count": null,
   "metadata": {},
   "outputs": [
    {
     "name": "stdout",
     "output_type": "stream",
     "text": [
      "All dependencies up to date\n"
     ]
    },
    {
     "data": {
      "text/plain": [
       "{:ok, [\"rdf_env\", \"sparql_env\"]}"
      ]
     },
     "execution_count": 2,
     "metadata": {},
     "output_type": "execute_result"
    }
   ],
   "source": [
    "Boyle.mk(\"sparql_env\")"
   ]
  },
  {
   "cell_type": "markdown",
   "metadata": {},
   "source": [
    "&#x274F; **Activate the environment.**\n",
    "\n",
    "Next step is to activate the environment which will take care of compiling."
   ]
  },
  {
   "cell_type": "code",
   "execution_count": null,
   "metadata": {},
   "outputs": [
    {
     "name": "stdout",
     "output_type": "stream",
     "text": [
      "===> Compiling parse_trans\n",
      "===> Compiling mimerl\n",
      "===> Compiling metrics\n",
      "===> Compiling unicode_util_compat\n",
      "===> Compiling idna\n",
      "===> Compiling certifi\n",
      "===> Compiling hackney\n"
     ]
    },
    {
     "data": {
      "text/plain": [
       ":ok"
      ]
     },
     "execution_count": 6,
     "metadata": {},
     "output_type": "execute_result"
    }
   ],
   "source": [
    "Boyle.activate(\"sparql_env\")"
   ]
  },
  {
   "cell_type": "markdown",
   "metadata": {},
   "source": [
    "And we can double check that this is the current environment."
   ]
  },
  {
   "cell_type": "code",
   "execution_count": null,
   "metadata": {},
   "outputs": [
    {
     "data": {
      "text/plain": [
       "\"sparql_env\""
      ]
     },
     "execution_count": 4,
     "metadata": {},
     "output_type": "execute_result"
    }
   ],
   "source": [
    "Boyle.active_env_name"
   ]
  },
  {
   "cell_type": "markdown",
   "metadata": {},
   "source": [
    "&#x274F; **Install `sparql_client` dependencies.**\n",
    "\n",
    "Next we install out dependencies."
   ]
  },
  {
   "cell_type": "code",
   "execution_count": null,
   "metadata": {},
   "outputs": [
    {
     "name": "stdout",
     "output_type": "stream",
     "text": [
      "Resolving Hex dependencies...\n",
      "Dependency resolution completed:\n",
      "Unchanged:\n",
      "\u001b[32m  content_type 0.1.0\u001b[0m\n",
      "\u001b[32m  decimal 1.5.0\u001b[0m\n",
      "\u001b[32m  elixir_uuid 1.2.0\u001b[0m\n",
      "\u001b[32m  jason 1.1.2\u001b[0m\n",
      "\u001b[32m  json_ld 0.3.0\u001b[0m\n",
      "\u001b[32m  mime 1.3.0\u001b[0m\n",
      "\u001b[32m  nimble_csv 0.4.0\u001b[0m\n",
      "\u001b[32m  rdf 0.5.1\u001b[0m\n",
      "\u001b[32m  sparql 0.2.5\u001b[0m\n",
      "\u001b[32m  sparql_client 0.2.1\u001b[0m\n",
      "\u001b[32m  sweet_xml 0.6.5\u001b[0m\n",
      "\u001b[32m  tesla 1.1.0\u001b[0m\n",
      "All dependencies up to date\n"
     ]
    },
    {
     "data": {
      "text/plain": [
       ":ok"
      ]
     },
     "execution_count": 4,
     "metadata": {},
     "output_type": "execute_result"
    }
   ],
   "source": [
    "Boyle.install( {:sparql_client, \"~> 0.2.1\"})"
   ]
  },
  {
   "cell_type": "markdown",
   "metadata": {},
   "source": [
    "&#x274F; **And check our packages.**\n",
    "\n",
    "And lastly let's just sanity check that we do indeed have the `SPARQL` and `SPARQL.Client` modules installed."
   ]
  },
  {
   "cell_type": "code",
   "execution_count": null,
   "metadata": {},
   "outputs": [
    {
     "name": "stdout",
     "output_type": "stream",
     "text": [
      "execute_query/2                   execute_query/3                   query/1                           \n",
      "query/2                           result_format/1                   result_format_by_extension/1      \n",
      "result_format_by_media_type/1     result_formats/0                  \n"
     ]
    }
   ],
   "source": [
    "exports SPARQL"
   ]
  },
  {
   "cell_type": "code",
   "execution_count": null,
   "metadata": {},
   "outputs": [
    {
     "name": "stdout",
     "output_type": "stream",
     "text": [
      "__adapter__/0               __middleware__/0            default_accept_header/1     \n",
      "delete/1                    delete/2                    delete/3                    \n",
      "delete!/1                   delete!/2                   delete!/3                   \n",
      "get/1                       get/2                       get/3                       \n",
      "get!/1                      get!/2                      get!/3                      \n",
      "head/1                      head/2                      head/3                      \n",
      "head!/1                     head!/2                     head!/3                     \n",
      "options/1                   options/2                   options/3                   \n",
      "options!/1                  options!/2                  options!/3                  \n",
      "patch/2                     patch/3                     patch/4                     \n",
      "patch!/2                    patch!/3                    patch!/4                    \n",
      "post/2                      post/3                      post/4                      \n",
      "post!/2                     post!/3                     post!/4                     \n",
      "put/2                       put/3                       put/4                       \n",
      "put!/2                      put!/3                      put!/4                      \n",
      "query/2                     query/3                     request/1                   \n",
      "request/2                   request!/1                  request!/2                  \n",
      "trace/1                     trace/2                     trace/3                     \n",
      "trace!/1                    trace!/2                    trace!/3                    \n"
     ]
    }
   ],
   "source": [
    "exports SPARQL.Client"
   ]
  },
  {
   "cell_type": "markdown",
   "metadata": {},
   "source": [
    "Looks good."
   ]
  },
  {
   "cell_type": "markdown",
   "metadata": {},
   "source": [
    "## 2. Simple queries"
   ]
  },
  {
   "cell_type": "markdown",
   "metadata": {},
   "source": [
    "&#x274F; **Let's try out a simple query.**\n",
    "\n",
    "Let's choose a SPARQL endpoint. DBpedia will be good."
   ]
  },
  {
   "cell_type": "code",
   "execution_count": null,
   "metadata": {},
   "outputs": [
    {
     "data": {
      "text/plain": [
       "\"http://dbpedia.org/sparql\""
      ]
     },
     "execution_count": 9,
     "metadata": {},
     "output_type": "execute_result"
    }
   ],
   "source": [
    "service = \"http://dbpedia.org/sparql\""
   ]
  },
  {
   "cell_type": "markdown",
   "metadata": {},
   "source": [
    "And we'll create a simple SPARQL query."
   ]
  },
  {
   "cell_type": "code",
   "execution_count": null,
   "metadata": {},
   "outputs": [
    {
     "data": {
      "text/plain": [
       "\"select * where {?s ?p ?o} limit 5\""
      ]
     },
     "execution_count": 10,
     "metadata": {},
     "output_type": "execute_result"
    }
   ],
   "source": [
    "query = \"select * where {?s ?p ?o} limit 5\""
   ]
  },
  {
   "cell_type": "markdown",
   "metadata": {},
   "source": [
    "&#x274F; **First query try gives error.**"
   ]
  },
  {
   "cell_type": "code",
   "execution_count": null,
   "metadata": {},
   "outputs": [
    {
     "data": {
      "text/plain": [
       "{:error, :econnrefused}"
      ]
     },
     "execution_count": 11,
     "metadata": {},
     "output_type": "execute_result"
    }
   ],
   "source": [
    "SPARQL.Client.query(query, service)"
   ]
  },
  {
   "cell_type": "markdown",
   "metadata": {},
   "source": [
    "&#x274F; **Let's check out the documentation.**"
   ]
  },
  {
   "cell_type": "code",
   "execution_count": null,
   "metadata": {},
   "outputs": [
    {
     "name": "stdout",
     "output_type": "stream",
     "text": [
      "\u001b[0m\n",
      "\u001b[7m\u001b[33m                   def query(query, endpoint, options \\\\ %{})                   \u001b[0m\n",
      "\u001b[0m\n",
      "The query operation is used to send a SPARQL query to a service endpoint and\n",
      "receive the results of the query.\n",
      "\u001b[0m\n",
      "The query can either be given as string or as an already parsed \u001b[36mSPARQL.Query\u001b[0m.\n",
      "\u001b[0m\n",
      "\u001b[36m    with %SPARQL.Query{} = query <- SPARQL.Query.new(\"SELECT * WHERE { ?s ?p ?o }\") do\n",
      "      SPARQL.Client.query(query, \"http://dbpedia.org/sparql\")\n",
      "    end\u001b[0m\n",
      "\u001b[0m\n",
      "The type of the result returned depends on the query form:\n",
      "\u001b[0m\n",
      "  • \u001b[36mSELECT\u001b[0m queries will return a \u001b[36mSPARQL.Query.ResultSet\u001b[0m struct with a list\n",
      "    of \u001b[36mSPARQL.Query.Result\u001b[0m structs in the \u001b[36mresults\u001b[0m field.\n",
      "  • \u001b[36mASK\u001b[0m queries will return a \u001b[36mSPARQL.Query.ResultSet\u001b[0m struct with the\n",
      "    boolean result in the \u001b[36mresults\u001b[0m field\n",
      "  • \u001b[36mCONSTRUCT\u001b[0m and \u001b[36mDESCRIBE\u001b[0m queries will return an RDF data structure\n",
      "\u001b[0m\n",
      "\u001b[33m## Specifying the request method\u001b[0m\n",
      "\u001b[0m\n",
      "The SPARQL 1.1 protocol spec defines three methods\n",
      "(https://www.w3.org/TR/sparql11-protocol/#query-operation) to perform a SPARQL\n",
      "query operation via HTTP, which can be specified via the \u001b[36mrequest_method\u001b[0m and\n",
      "\u001b[36mprotocol_version\u001b[0m options:\n",
      "\u001b[0m\n",
      "  1. query via GET: by setting the options as \u001b[36mrequest_method: :get\u001b[0m and\n",
      "     \u001b[36mprotocol_version: \"1.1\"\u001b[0m\n",
      "  2. query via URL-encoded POST: by setting the options as \u001b[36mrequest_method:\n",
      "     :post\u001b[0m and \u001b[36mprotocol_version: \"1.0\"\u001b[0m\n",
      "  3. query via POST directly: by setting the options as \u001b[36mrequest_method:\n",
      "     :post\u001b[0m and \u001b[36mprotocol_version: \"1.1\"\u001b[0m\n",
      "\u001b[0m\n",
      "In order to work with SPARQL 1.0 services out-of-the-box the second method,\n",
      "query via URL-encoded POST, is the default.\n",
      "\u001b[0m\n",
      "To perform previous query via GET, you would have to call it like this:\n",
      "\u001b[0m\n",
      "\u001b[36m    SPARQL.Client.query(query, \"http://dbpedia.org/sparql\",\n",
      "      request_method: :get, protocol_version: \"1.1\")\u001b[0m\n",
      "\u001b[0m\n",
      "\u001b[33m## Specifying custom headers\u001b[0m\n",
      "\u001b[0m\n",
      "You can specify custom headers for the HTTP request to the SPARQL service with\n",
      "the \u001b[36mheaders\u001b[0m option and a map.\n",
      "\u001b[0m\n",
      "\u001b[36m    SPARQL.Client.query(query, \"http://some.company.org/private/sparql\",\n",
      "      headers: %{\"Authorization\" => \"Basic XXX==\"})\u001b[0m\n",
      "\u001b[0m\n",
      "\u001b[33m## Specifying the response format\u001b[0m\n",
      "\u001b[0m\n",
      "The \u001b[36mSPARQL.Client\u001b[0m can handle all of the specified result formats for SPARQL\n",
      "tuple results (JSON, XML, CSV and TSV) and for \u001b[36mCONSTRUCT\u001b[0m and \u001b[36mDESCRIBE\u001b[0m queries\n",
      "all RDF serialization formats supported by RDF.ex\n",
      "(https://github.com/marcelotto/rdf-ex) can be handled.\n",
      "\u001b[0m\n",
      "If no custom \u001b[36mAccept\u001b[0m header is specified, all accepted formats for the resp.\n",
      "query form will be set automatically, with\n",
      "\u001b[0m\n",
      "  • JSON being the preferred format for \u001b[36mSELECT\u001b[0m and \u001b[36mASK\u001b[0m queries\n",
      "  • Turtle being the preferred format for \u001b[36mCONSTRUCT\u001b[0m and \u001b[36mDESCRIBE\u001b[0m queries\n",
      "\u001b[0m\n",
      "Although the returned result is mostly independent from the actually returned\n",
      "response format from the service, you might want to set it manually with the\n",
      "\u001b[36mresult_format\u001b[0m and the name of the format\n",
      "\u001b[0m\n",
      "\u001b[36m    SPARQL.Client.query(query, \"http://some.company.org/private/sparql\",\n",
      "      result_format: :xml)\u001b[0m\n",
      "\u001b[0m\n",
      "These are the names of the supported formats:\n",
      "\u001b[0m\n",
      "  • tuple result formats: \u001b[36m:json, :xml, :csv, :tsv\u001b[0m\n",
      "  • RDF result formats: \u001b[36m:turtle, :ntriples, :nquads, :jsonld\u001b[0m\n",
      "\u001b[0m\n",
      "When a \u001b[36mresult_format\u001b[0m is specified the \u001b[36mAccept\u001b[0m header is set to the corresponding\n",
      "media type. You might however still want to overwrite the \u001b[36mAccept\u001b[0m header, for\n",
      "example when a SPARQL service uses a non-standard media type for a format. Note\n",
      "that, when providing a custom non-standard \u001b[36mAccept\u001b[0m header the \u001b[36mresult_format\u001b[0m\n",
      "option is mandatory.\n",
      "\u001b[0m\n",
      "\u001b[33m## Specifying an RDF Dataset\u001b[0m\n",
      "\u001b[0m\n",
      "The RDF dataset to be queried can be specified as described in the spec\n",
      "(https://www.w3.org/TR/sparql11-protocol/#dataset) via the the \u001b[36mdefault_graph\u001b[0m\n",
      "and \u001b[36mnamed_graph\u001b[0m options and either a single dataset names or lists of datasets.\n",
      "\u001b[0m\n",
      "\u001b[36m    SPARQL.Client.query(query, \"http://some.company.org/private/sparql\",\n",
      "      default_graph: \"http://www.example/sparql/\",\n",
      "      named_graph: [\n",
      "        \"http://www.other.example/sparql/\",\n",
      "        \"http://www.another.example/sparql/\"\n",
      "      ])\u001b[0m\n",
      "\u001b[0m\n",
      "\u001b[33m## Other options\u001b[0m\n",
      "\u001b[0m\n",
      "  • \u001b[36mmax_redirects\u001b[0m: the number of redirects to follow before the operation\n",
      "    fails (default: \u001b[36m5\u001b[0m)\n",
      "\u001b[0m\n"
     ]
    }
   ],
   "source": [
    "h SPARQL.Client.query"
   ]
  },
  {
   "cell_type": "markdown",
   "metadata": {},
   "source": [
    "&#x274F; **Second try succeeds – after setting :request_method (and :protocol_version).**"
   ]
  },
  {
   "cell_type": "code",
   "execution_count": null,
   "metadata": {},
   "outputs": [
    {
     "data": {
      "text/plain": [
       "{:ok, %SPARQL.Query.Result{results: [%{\"o\" => ~I<http://www.openlinksw.com/schemas/virtrdf#QuadMapFormat>, \"p\" => ~I<http://www.w3.org/1999/02/22-rdf-syntax-ns#type>, \"s\" => ~I<http://www.openlinksw.com/virtrdf-data-formats#default-iid>}, %{\"o\" => ~I<http://www.openlinksw.com/schemas/virtrdf#QuadMapFormat>, \"p\" => ~I<http://www.w3.org/1999/02/22-rdf-syntax-ns#type>, \"s\" => ~I<http://www.openlinksw.com/virtrdf-data-formats#default-iid-nullable>}, %{\"o\" => ~I<http://www.openlinksw.com/schemas/virtrdf#QuadMapFormat>, \"p\" => ~I<http://www.w3.org/1999/02/22-rdf-syntax-ns#type>, \"s\" => ~I<http://www.openlinksw.com/virtrdf-data-formats#default-iid-nonblank>}, %{\"o\" => ~I<http://www.openlinksw.com/schemas/virtrdf#QuadMapFormat>, \"p\" => ~I<http://www.w3.org/1999/02/22-rdf-syntax-ns#type>, \"s\" => ~I<http://www.openlinksw.com/virtrdf-data-formats#default-iid-nonblank-nullable>}, %{\"o\" => ~I<http://www.openlinksw.com/schemas/virtrdf#QuadMapFormat>, \"p\" => ~I<http://www.w3.org/1999/02/22-rdf-syntax-ns#type>, \"s\" => ~I<http://www.openlinksw.com/virtrdf-data-formats#default>}], variables: [\"s\", \"p\", \"o\"]}}"
      ]
     },
     "execution_count": 12,
     "metadata": {},
     "output_type": "execute_result"
    }
   ],
   "source": [
    "SPARQL.Client.query(query, service, request_method: :get, protocol_version: \"1.1\")"
   ]
  },
  {
   "cell_type": "markdown",
   "metadata": {},
   "source": [
    "## 3. Installing our TestQuery module"
   ]
  },
  {
   "cell_type": "markdown",
   "metadata": {},
   "source": [
    "&#x274F; **Install TestQuery**\n",
    "\n",
    "Is our `TestQuery` module loaded?"
   ]
  },
  {
   "cell_type": "code",
   "execution_count": 13,
   "metadata": {},
   "outputs": [
    {
     "ename": "UndefinedFunctionError",
     "evalue": "1",
     "execution_count": 13,
     "output_type": "error",
     "traceback": [
      "** %UndefinedFunctionError{arity: 1, function: :module_info, message: nil, module: TestQuery, reason: nil}"
     ]
    }
   ],
   "source": [
    "exports TestQuery"
   ]
  },
  {
   "cell_type": "markdown",
   "metadata": {},
   "source": [
    "That'll be a no, then. So, let's explicitly import the module."
   ]
  },
  {
   "cell_type": "code",
   "execution_count": null,
   "metadata": {},
   "outputs": [
    {
     "data": {
      "text/plain": [
       "{:module, TestQuery, <<70, 79, 82, 49, 0, 0, 7, 76, 66, 69, 65, 77, 65, 116, 85, 56, 0, 0, 0, 191, 0, 0, 0, 18, 16, 69, 108, 105, 120, 105, 114, 46, 84, 101, 115, 116, 81, 117, 101, 114, 121, 8, 95, 95, 105, 110, 102, ...>>, {:query, 2}}"
      ]
     },
     "execution_count": 13,
     "metadata": {},
     "output_type": "execute_result"
    }
   ],
   "source": [
    "import_file(\"/Users/tony/Projects/local/elixir/examples/test_query/lib/test_query.ex\")"
   ]
  },
  {
   "cell_type": "markdown",
   "metadata": {},
   "source": [
    "Rats!"
   ]
  },
  {
   "cell_type": "markdown",
   "metadata": {},
   "source": [
    "Turns out that our call `:code.priv_dir(:test_query)}` is failing."
   ]
  },
  {
   "cell_type": "markdown",
   "metadata": {},
   "source": [
    "Let's just hardwire that for now and try again."
   ]
  },
  {
   "cell_type": "code",
   "execution_count": null,
   "metadata": {},
   "outputs": [
    {
     "data": {
      "text/plain": [
       "{:module, TestQuery, <<70, 79, 82, 49, 0, 0, 7, 76, 66, 69, 65, 77, 65, 116, 85, 56, 0, 0, 0, 191, 0, 0, 0, 18, 16, 69, 108, 105, 120, 105, 114, 46, 84, 101, 115, 116, 81, 117, 101, 114, 121, 8, 95, 95, 105, 110, 102, ...>>, {:query, 2}}"
      ]
     },
     "execution_count": 14,
     "metadata": {},
     "output_type": "execute_result"
    }
   ],
   "source": [
    "import_file(\"/Users/tony/Projects/local/elixir/examples/test_query/lib/test_query.ex\")"
   ]
  },
  {
   "cell_type": "markdown",
   "metadata": {},
   "source": [
    "And let's sanity check."
   ]
  },
  {
   "cell_type": "code",
   "execution_count": null,
   "metadata": {},
   "outputs": [
    {
     "name": "stdout",
     "output_type": "stream",
     "text": [
      "data/0      query/0     query/1     query/2     \n"
     ]
    }
   ],
   "source": [
    "exports TestQuery"
   ]
  },
  {
   "cell_type": "markdown",
   "metadata": {},
   "source": [
    "Success!"
   ]
  },
  {
   "cell_type": "markdown",
   "metadata": {},
   "source": [
    "&#x274F; **Install TestQuery.Client.** \n",
    "\n",
    "Now let's import the `TestQuery.Client` module."
   ]
  },
  {
   "cell_type": "code",
   "execution_count": 17,
   "metadata": {},
   "outputs": [
    {
     "ename": "Protocol.UndefinedError",
     "evalue": "1",
     "execution_count": 17,
     "output_type": "error",
     "traceback": [
      "** %Protocol.UndefinedError{description: \"\", protocol: String.Chars, value: {:error, :bad_name}}"
     ]
    }
   ],
   "source": [
    "import_file(\"/Users/tony/Projects/local/elixir/examples/test_query/lib/test_query/client.ex\")"
   ]
  },
  {
   "cell_type": "markdown",
   "metadata": {},
   "source": [
    "Same problem. Same fix."
   ]
  },
  {
   "cell_type": "code",
   "execution_count": null,
   "metadata": {},
   "outputs": [
    {
     "data": {
      "text/plain": [
       "{:module, TestQuery.Client, <<70, 79, 82, 49, 0, 0, 25, 168, 66, 69, 65, 77, 65, 116, 85, 56, 0, 0, 2, 195, 0, 0, 0, 69, 23, 69, 108, 105, 120, 105, 114, 46, 84, 101, 115, 116, 81, 117, 101, 114, 121, 46, 67, 108, 105, 101, 110, ...>>, {:_read_tuple, 1}}"
      ]
     },
     "execution_count": 17,
     "metadata": {},
     "output_type": "execute_result"
    }
   ],
   "source": [
    "import_file(\"/Users/tony/Projects/local/elixir/examples/test_query/lib/test_query/client.ex\")"
   ]
  },
  {
   "cell_type": "markdown",
   "metadata": {},
   "source": [
    "And again sanity check."
   ]
  },
  {
   "cell_type": "code",
   "execution_count": null,
   "metadata": {},
   "outputs": [
    {
     "name": "stdout",
     "output_type": "stream",
     "text": [
      "get_query/0       get_service/0     hello/0           read_table/1      rquery/0          \n",
      "rquery/1          rquery/2          rquery_all/0      \n"
     ]
    }
   ],
   "source": [
    "exports TestQuery.Client"
   ]
  },
  {
   "cell_type": "markdown",
   "metadata": {},
   "source": [
    "## 4. Testing it out"
   ]
  },
  {
   "cell_type": "code",
   "execution_count": null,
   "metadata": {},
   "outputs": [
    {
     "data": {
      "text/plain": [
       "~L\"Hello World\"en"
      ]
     },
     "execution_count": 18,
     "metadata": {},
     "output_type": "execute_result"
    }
   ],
   "source": [
    "o = SPARQL.Query.Result.get(result, :o) |> List.first"
   ]
  },
  {
   "cell_type": "code",
   "execution_count": 32,
   "metadata": {},
   "outputs": [
    {
     "ename": "File.Error",
     "evalue": "1",
     "execution_count": 32,
     "output_type": "error",
     "traceback": [
      "** %File.Error{action: \"read file\", path: \"#/Users/tony/Projects/local/elixir/examples/test_super/priv/queries/dbpedia_query.rq\", reason: :enoent}"
     ]
    }
   ],
   "source": [
    "query"
   ]
  },
  {
   "cell_type": "code",
   "execution_count": 32,
   "metadata": {},
   "outputs": [
    {
     "ename": "File.Error",
     "evalue": "1",
     "execution_count": 32,
     "output_type": "error",
     "traceback": [
      "** %File.Error{action: \"read file\", path: \"#/Users/tony/Projects/local/elixir/examples/test_super/priv/queries/dbpedia_query.rq\", reason: :enoent}"
     ]
    }
   ],
   "source": [
    "i query"
   ]
  },
  {
   "cell_type": "code",
   "execution_count": null,
   "metadata": {},
   "outputs": [],
   "source": []
  },
  {
   "cell_type": "code",
   "execution_count": null,
   "metadata": {},
   "outputs": [
    {
     "data": {
      "text/plain": [
       "[~L\"Hello World\"en]"
      ]
     },
     "execution_count": 17,
     "metadata": {},
     "output_type": "execute_result"
    }
   ],
   "source": [
    "o"
   ]
  },
  {
   "cell_type": "code",
   "execution_count": null,
   "metadata": {},
   "outputs": [
    {
     "data": {
      "text/plain": [
       "\"Hello World\""
      ]
     },
     "execution_count": 19,
     "metadata": {},
     "output_type": "execute_result"
    }
   ],
   "source": [
    "o.value"
   ]
  },
  {
   "cell_type": "code",
   "execution_count": null,
   "metadata": {},
   "outputs": [
    {
     "data": {
      "text/plain": [
       "\"prefix dbo: <http://dbpedia.org/ontology/>\\nprefix foaf: <http://xmlns.com/foaf/0.1/>\\nprefix rdfs: <http://www.w3.org/2000/01/rdf-schema#>\\n\\nselect *\\nwhere {\\n  bind (12345 as ?id)\\n  ?s dbo:wikiPageID ?id .\\n  optional { ?s foaf:isPrimaryTopicOf ?topic }\\n  optional { ?s rdfs:label ?label }\\n  filter (langMatches(lang(?label), \\\"en\\\"))\\n} limit 1\\n\""
      ]
     },
     "execution_count": 32,
     "metadata": {},
     "output_type": "execute_result"
    }
   ],
   "source": [
    "rq = File.read!(\"/Users/tony/Projects/local/elixir/examples/test_super/priv/queries/dbpedia_query.rq\")"
   ]
  },
  {
   "cell_type": "code",
   "execution_count": null,
   "metadata": {},
   "outputs": [
    {
     "name": "stdout",
     "output_type": "stream",
     "text": [
      "prefix dbo: <http://dbpedia.org/ontology/>\n",
      "prefix foaf: <http://xmlns.com/foaf/0.1/>\n",
      "prefix rdfs: <http://www.w3.org/2000/01/rdf-schema#>\n",
      "\n",
      "select *\n",
      "where {\n",
      "  bind (12345 as ?id)\n",
      "  ?s dbo:wikiPageID ?id .\n",
      "  optional { ?s foaf:isPrimaryTopicOf ?topic }\n",
      "  optional { ?s rdfs:label ?label }\n",
      "  filter (langMatches(lang(?label), \"en\"))\n",
      "} limit 1\n",
      "\n"
     ]
    },
    {
     "data": {
      "text/plain": [
       ":ok"
      ]
     },
     "execution_count": 33,
     "metadata": {},
     "output_type": "execute_result"
    }
   ],
   "source": [
    "IO.puts rq"
   ]
  },
  {
   "cell_type": "markdown",
   "metadata": {},
   "source": [
    "## 5. Etc."
   ]
  },
  {
   "cell_type": "code",
   "execution_count": null,
   "metadata": {},
   "outputs": [
    {
     "name": "stdout",
     "output_type": "stream",
     "text": [
      "__struct__/0          __struct__/1          add_identity/1        append/2              \n",
      "get/2                 new/1                 new/2                 remove_identity/1     \n"
     ]
    }
   ],
   "source": [
    "exports SPARQL.Query.Result"
   ]
  },
  {
   "cell_type": "code",
   "execution_count": null,
   "metadata": {},
   "outputs": [],
   "source": []
  },
  {
   "cell_type": "code",
   "execution_count": null,
   "metadata": {},
   "outputs": [
    {
     "data": {
      "text/plain": [
       "[~I<https://twitter.com/bgmarx>, ~I<https://twitter.com/josevalim>, ~I<https://twitter.com/redrapids>, %RDF.Literal{value: ~D[2018-03-14], datatype: ~I<http://www.w3.org/2001/XMLSchema#date>}, ~L\"Paper\", ~I<https://pragprog.com/>, ~L\"Adopting Elixir\"en, ~I<http://purl.org/ontology/bibo/Book>]"
      ]
     },
     "execution_count": 2,
     "metadata": {},
     "output_type": "execute_result"
    }
   ],
   "source": [
    " objects = (result |> SPARQL.Query.Result.get(:o) )"
   ]
  },
  {
   "cell_type": "code",
   "execution_count": null,
   "metadata": {},
   "outputs": [],
   "source": []
  }
 ],
 "metadata": {
  "kernelspec": {
   "display_name": "Elixir",
   "language": "Elixir",
   "name": "ielixir"
  },
  "language_info": {
   "codemirror_mode": "elixir",
   "file_extension": "ex",
   "mimetype": "text/x-elixir",
   "name": "elixir",
   "nbconvert_exporter": "",
   "pygments_lexer": "elixir",
   "version": "#Version<1.7.3>"
  }
 },
 "nbformat": 4,
 "nbformat_minor": 2
}
