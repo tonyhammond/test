{
 "cells": [
  {
   "cell_type": "markdown",
   "metadata": {},
   "source": [
    "## Setup"
   ]
  },
  {
   "cell_type": "markdown",
   "metadata": {},
   "source": [
    "**&raquo; Create a `sparql_env`.**"
   ]
  },
  {
   "cell_type": "code",
   "execution_count": null,
   "metadata": {},
   "outputs": [
    {
     "name": "stdout",
     "output_type": "stream",
     "text": [
      "All dependencies up to date\n"
     ]
    },
    {
     "data": {
      "text/plain": [
       "{:ok, [\"rdf_env\", \"sparql_env\"]}"
      ]
     },
     "execution_count": 2,
     "metadata": {},
     "output_type": "execute_result"
    }
   ],
   "source": [
    "Boyle.mk(\"sparql_env\")"
   ]
  },
  {
   "cell_type": "markdown",
   "metadata": {},
   "source": [
    "**&raquo; Activate the environment.**"
   ]
  },
  {
   "cell_type": "code",
   "execution_count": null,
   "metadata": {},
   "outputs": [
    {
     "name": "stdout",
     "output_type": "stream",
     "text": [
      "All dependencies up to date\n"
     ]
    },
    {
     "data": {
      "text/plain": [
       ":ok"
      ]
     },
     "execution_count": 3,
     "metadata": {},
     "output_type": "execute_result"
    }
   ],
   "source": [
    "Boyle.activate(\"sparql_env\")"
   ]
  },
  {
   "cell_type": "markdown",
   "metadata": {},
   "source": [
    "**&raquo; Install `sparql_client` dependencies.**"
   ]
  },
  {
   "cell_type": "code",
   "execution_count": null,
   "metadata": {},
   "outputs": [
    {
     "name": "stdout",
     "output_type": "stream",
     "text": [
      "Resolving Hex dependencies...\n",
      "Dependency resolution completed:\n",
      "Unchanged:\n",
      "\u001b[32m  content_type 0.1.0\u001b[0m\n",
      "\u001b[32m  decimal 1.5.0\u001b[0m\n",
      "\u001b[32m  elixir_uuid 1.2.0\u001b[0m\n",
      "\u001b[32m  jason 1.1.2\u001b[0m\n",
      "\u001b[32m  json_ld 0.3.0\u001b[0m\n",
      "\u001b[32m  mime 1.3.0\u001b[0m\n",
      "\u001b[32m  nimble_csv 0.4.0\u001b[0m\n",
      "\u001b[32m  rdf 0.5.1\u001b[0m\n",
      "\u001b[32m  sparql 0.2.5\u001b[0m\n",
      "\u001b[32m  sparql_client 0.2.1\u001b[0m\n",
      "\u001b[32m  sweet_xml 0.6.5\u001b[0m\n",
      "\u001b[32m  tesla 1.1.0\u001b[0m\n",
      "All dependencies up to date\n"
     ]
    },
    {
     "data": {
      "text/plain": [
       ":ok"
      ]
     },
     "execution_count": 4,
     "metadata": {},
     "output_type": "execute_result"
    }
   ],
   "source": [
    "Boyle.install( {:sparql_client, \"~> 0.2.1\"})"
   ]
  },
  {
   "cell_type": "code",
   "execution_count": null,
   "metadata": {},
   "outputs": [
    {
     "name": "stdout",
     "output_type": "stream",
     "text": [
      "execute_query/2                   execute_query/3                   query/1                           \n",
      "query/2                           result_format/1                   result_format_by_extension/1      \n",
      "result_format_by_media_type/1     result_formats/0                  \n"
     ]
    }
   ],
   "source": [
    "exports SPARQL"
   ]
  },
  {
   "cell_type": "code",
   "execution_count": null,
   "metadata": {},
   "outputs": [
    {
     "name": "stdout",
     "output_type": "stream",
     "text": [
      "__adapter__/0               __middleware__/0            default_accept_header/1     \n",
      "delete/1                    delete/2                    delete/3                    \n",
      "delete!/1                   delete!/2                   delete!/3                   \n",
      "get/1                       get/2                       get/3                       \n",
      "get!/1                      get!/2                      get!/3                      \n",
      "head/1                      head/2                      head/3                      \n",
      "head!/1                     head!/2                     head!/3                     \n",
      "options/1                   options/2                   options/3                   \n",
      "options!/1                  options!/2                  options!/3                  \n",
      "patch/2                     patch/3                     patch/4                     \n",
      "patch!/2                    patch!/3                    patch!/4                    \n",
      "post/2                      post/3                      post/4                      \n",
      "post!/2                     post!/3                     post!/4                     \n",
      "put/2                       put/3                       put/4                       \n",
      "put!/2                      put!/3                      put!/4                      \n",
      "query/2                     query/3                     request/1                   \n",
      "request/2                   request!/1                  request!/2                  \n",
      "trace/1                     trace/2                     trace/3                     \n",
      "trace!/1                    trace!/2                    trace!/3                    \n"
     ]
    }
   ],
   "source": [
    "exports SPARQL.Client"
   ]
  },
  {
   "cell_type": "markdown",
   "metadata": {},
   "source": [
    "**&raquo; Let's set up a simple SPARQL query.**"
   ]
  },
  {
   "cell_type": "code",
   "execution_count": null,
   "metadata": {},
   "outputs": [],
   "source": [
    "query = \"select * where {?s ?p ?o} limit 5\""
   ]
  },
  {
   "cell_type": "markdown",
   "metadata": {},
   "source": [
    "**&raquo; And choose a SPARQL endpoint.**"
   ]
  },
  {
   "cell_type": "code",
   "execution_count": null,
   "metadata": {},
   "outputs": [],
   "source": [
    "service = \"http://dbpedia.org/sparql\""
   ]
  },
  {
   "cell_type": "markdown",
   "metadata": {},
   "source": [
    "**&raquo; First query try gives error.**"
   ]
  },
  {
   "cell_type": "code",
   "execution_count": null,
   "metadata": {},
   "outputs": [],
   "source": [
    "SPARQL.Client.query(query, service)"
   ]
  },
  {
   "cell_type": "markdown",
   "metadata": {},
   "source": [
    "**&raquo; Let's check out the documentation.**"
   ]
  },
  {
   "cell_type": "code",
   "execution_count": null,
   "metadata": {},
   "outputs": [],
   "source": [
    "h SPARQL.Client.query"
   ]
  },
  {
   "cell_type": "markdown",
   "metadata": {},
   "source": [
    "**&raquo; Second try succeeds – after setting :request_method (and :protocol_version).**"
   ]
  },
  {
   "cell_type": "code",
   "execution_count": null,
   "metadata": {},
   "outputs": [],
   "source": [
    "SPARQL.Client.query(query, service, request_method: :get, protocol_version: \"1.1\")"
   ]
  },
  {
   "cell_type": "markdown",
   "metadata": {},
   "source": [
    "**&raquo; Is our `TestQuery` module loaded?**"
   ]
  },
  {
   "cell_type": "code",
   "execution_count": null,
   "metadata": {},
   "outputs": [],
   "source": [
    "exports TestQuery"
   ]
  },
  {
   "cell_type": "markdown",
   "metadata": {},
   "source": [
    "**&raquo; That'll be a no, then.**"
   ]
  },
  {
   "cell_type": "code",
   "execution_count": null,
   "metadata": {},
   "outputs": [],
   "source": [
    "import_file(\"/Users/tony/Projects/local/elixir/examples/test_query/lib/test_query.ex\")"
   ]
  },
  {
   "cell_type": "markdown",
   "metadata": {},
   "source": [
    "**&raquo; Rats!**"
   ]
  },
  {
   "cell_type": "code",
   "execution_count": null,
   "metadata": {},
   "outputs": [],
   "source": []
  },
  {
   "cell_type": "code",
   "execution_count": null,
   "metadata": {},
   "outputs": [],
   "source": []
  },
  {
   "cell_type": "code",
   "execution_count": null,
   "metadata": {},
   "outputs": [],
   "source": []
  },
  {
   "cell_type": "markdown",
   "metadata": {},
   "source": [
    "Turns out that our call `:code.priv_dir(:test_query)}` is failing."
   ]
  },
  {
   "cell_type": "markdown",
   "metadata": {},
   "source": [
    "Let's just hardwire that for now and try again."
   ]
  },
  {
   "cell_type": "code",
   "execution_count": null,
   "metadata": {},
   "outputs": [],
   "source": [
    "import_file(\"/Users/tony/Projects/local/elixir/examples/test_query/lib/test_query.ex\")"
   ]
  },
  {
   "cell_type": "code",
   "execution_count": null,
   "metadata": {},
   "outputs": [],
   "source": []
  },
  {
   "cell_type": "code",
   "execution_count": null,
   "metadata": {},
   "outputs": [
    {
     "name": "stdout",
     "output_type": "stream",
     "text": [
      "data/0      query/0     query/1     query/2     \n"
     ]
    }
   ],
   "source": [
    "exports TestQuery"
   ]
  },
  {
   "cell_type": "markdown",
   "metadata": {},
   "source": [
    "Success!"
   ]
  },
  {
   "cell_type": "markdown",
   "metadata": {},
   "source": [
    "Now let's import the `TestQuery.Client` module."
   ]
  },
  {
   "cell_type": "code",
   "execution_count": 17,
   "metadata": {},
   "outputs": [
    {
     "ename": "Protocol.UndefinedError",
     "evalue": "1",
     "execution_count": 17,
     "output_type": "error",
     "traceback": [
      "** %Protocol.UndefinedError{description: \"\", protocol: String.Chars, value: {:error, :bad_name}}"
     ]
    }
   ],
   "source": [
    "import_file(\"/Users/tony/Projects/local/elixir/examples/test_query/lib/test_query/client.ex\")"
   ]
  },
  {
   "cell_type": "markdown",
   "metadata": {},
   "source": [
    "Same problem."
   ]
  },
  {
   "cell_type": "code",
   "execution_count": null,
   "metadata": {},
   "outputs": [
    {
     "data": {
      "text/plain": [
       "{:module, TestQuery.Client, <<70, 79, 82, 49, 0, 0, 25, 168, 66, 69, 65, 77, 65, 116, 85, 56, 0, 0, 2, 195, 0, 0, 0, 69, 23, 69, 108, 105, 120, 105, 114, 46, 84, 101, 115, 116, 81, 117, 101, 114, 121, 46, 67, 108, 105, 101, 110, ...>>, {:_read_tuple, 1}}"
      ]
     },
     "execution_count": 17,
     "metadata": {},
     "output_type": "execute_result"
    }
   ],
   "source": [
    "import_file(\"/Users/tony/Projects/local/elixir/examples/test_query/lib/test_query/client.ex\")"
   ]
  },
  {
   "cell_type": "code",
   "execution_count": null,
   "metadata": {},
   "outputs": [
    {
     "name": "stdout",
     "output_type": "stream",
     "text": [
      "get_query/0       get_service/0     hello/0           read_table/1      rquery/0          \n",
      "rquery/1          rquery/2          rquery_all/0      \n"
     ]
    }
   ],
   "source": [
    "exports TestQuery.Client"
   ]
  },
  {
   "cell_type": "code",
   "execution_count": null,
   "metadata": {},
   "outputs": [],
   "source": []
  },
  {
   "cell_type": "code",
   "execution_count": null,
   "metadata": {},
   "outputs": [
    {
     "data": {
      "text/plain": [
       "%SPARQL.Query.Result{results: [%{\"o\" => ~L\"Hello World\"en, \"p\" => ~I<http://www.w3.org/2000/01/rdf-schema#label>, \"s\" => ~I<http://dbpedia.org/resource/Hello_World>}], variables: [\"s\", \"p\", \"o\"]}"
      ]
     },
     "execution_count": 13,
     "metadata": {},
     "output_type": "execute_result"
    }
   ],
   "source": [
    "result"
   ]
  },
  {
   "cell_type": "code",
   "execution_count": null,
   "metadata": {},
   "outputs": [
    {
     "data": {
      "text/plain": [
       "~L\"Hello World\"en"
      ]
     },
     "execution_count": 18,
     "metadata": {},
     "output_type": "execute_result"
    }
   ],
   "source": [
    "o = SPARQL.Query.Result.get(result, :o) |> List.first"
   ]
  },
  {
   "cell_type": "code",
   "execution_count": 32,
   "metadata": {},
   "outputs": [
    {
     "ename": "File.Error",
     "evalue": "1",
     "execution_count": 32,
     "output_type": "error",
     "traceback": [
      "** %File.Error{action: \"read file\", path: \"#/Users/tony/Projects/local/elixir/examples/test_super/priv/queries/dbpedia_query.rq\", reason: :enoent}"
     ]
    }
   ],
   "source": [
    "query"
   ]
  },
  {
   "cell_type": "code",
   "execution_count": 32,
   "metadata": {},
   "outputs": [
    {
     "ename": "File.Error",
     "evalue": "1",
     "execution_count": 32,
     "output_type": "error",
     "traceback": [
      "** %File.Error{action: \"read file\", path: \"#/Users/tony/Projects/local/elixir/examples/test_super/priv/queries/dbpedia_query.rq\", reason: :enoent}"
     ]
    }
   ],
   "source": [
    "i query"
   ]
  },
  {
   "cell_type": "code",
   "execution_count": null,
   "metadata": {},
   "outputs": [],
   "source": []
  },
  {
   "cell_type": "code",
   "execution_count": null,
   "metadata": {},
   "outputs": [
    {
     "data": {
      "text/plain": [
       "[~L\"Hello World\"en]"
      ]
     },
     "execution_count": 17,
     "metadata": {},
     "output_type": "execute_result"
    }
   ],
   "source": [
    "o"
   ]
  },
  {
   "cell_type": "code",
   "execution_count": null,
   "metadata": {},
   "outputs": [
    {
     "data": {
      "text/plain": [
       "\"Hello World\""
      ]
     },
     "execution_count": 19,
     "metadata": {},
     "output_type": "execute_result"
    }
   ],
   "source": [
    "o.value"
   ]
  },
  {
   "cell_type": "markdown",
   "metadata": {},
   "source": [
    "Now let's add in some `TestSuper.Client`."
   ]
  },
  {
   "cell_type": "code",
   "execution_count": null,
   "metadata": {},
   "outputs": [
    {
     "data": {
      "text/plain": [
       "\"prefix dbo: <http://dbpedia.org/ontology/>\\nprefix foaf: <http://xmlns.com/foaf/0.1/>\\nprefix rdfs: <http://www.w3.org/2000/01/rdf-schema#>\\n\\nselect *\\nwhere {\\n  bind (12345 as ?id)\\n  ?s dbo:wikiPageID ?id .\\n  optional { ?s foaf:isPrimaryTopicOf ?topic }\\n  optional { ?s rdfs:label ?label }\\n  filter (langMatches(lang(?label), \\\"en\\\"))\\n} limit 1\\n\""
      ]
     },
     "execution_count": 32,
     "metadata": {},
     "output_type": "execute_result"
    }
   ],
   "source": [
    "rq = File.read!(\"/Users/tony/Projects/local/elixir/examples/test_super/priv/queries/dbpedia_query.rq\")"
   ]
  },
  {
   "cell_type": "code",
   "execution_count": null,
   "metadata": {},
   "outputs": [
    {
     "name": "stdout",
     "output_type": "stream",
     "text": [
      "prefix dbo: <http://dbpedia.org/ontology/>\n",
      "prefix foaf: <http://xmlns.com/foaf/0.1/>\n",
      "prefix rdfs: <http://www.w3.org/2000/01/rdf-schema#>\n",
      "\n",
      "select *\n",
      "where {\n",
      "  bind (12345 as ?id)\n",
      "  ?s dbo:wikiPageID ?id .\n",
      "  optional { ?s foaf:isPrimaryTopicOf ?topic }\n",
      "  optional { ?s rdfs:label ?label }\n",
      "  filter (langMatches(lang(?label), \"en\"))\n",
      "} limit 1\n",
      "\n"
     ]
    },
    {
     "data": {
      "text/plain": [
       ":ok"
      ]
     },
     "execution_count": 33,
     "metadata": {},
     "output_type": "execute_result"
    }
   ],
   "source": [
    "IO.puts rq"
   ]
  },
  {
   "cell_type": "code",
   "execution_count": null,
   "metadata": {},
   "outputs": [],
   "source": []
  },
  {
   "cell_type": "code",
   "execution_count": null,
   "metadata": {},
   "outputs": [],
   "source": [
    "exports "
   ]
  },
  {
   "cell_type": "code",
   "execution_count": null,
   "metadata": {},
   "outputs": [
    {
     "name": "stdout",
     "output_type": "stream",
     "text": [
      "__struct__/0          __struct__/1          add_identity/1        append/2              \n",
      "get/2                 new/1                 new/2                 remove_identity/1     \n"
     ]
    }
   ],
   "source": [
    "exports SPARQL.Query.Result"
   ]
  },
  {
   "cell_type": "code",
   "execution_count": null,
   "metadata": {},
   "outputs": [],
   "source": []
  },
  {
   "cell_type": "code",
   "execution_count": null,
   "metadata": {},
   "outputs": [],
   "source": []
  },
  {
   "cell_type": "code",
   "execution_count": null,
   "metadata": {},
   "outputs": [],
   "source": []
  },
  {
   "cell_type": "code",
   "execution_count": null,
   "metadata": {},
   "outputs": [
    {
     "data": {
      "text/plain": [
       "[~I<https://twitter.com/bgmarx>, ~I<https://twitter.com/josevalim>, ~I<https://twitter.com/redrapids>, %RDF.Literal{value: ~D[2018-03-14], datatype: ~I<http://www.w3.org/2001/XMLSchema#date>}, ~L\"Paper\", ~I<https://pragprog.com/>, ~L\"Adopting Elixir\"en, ~I<http://purl.org/ontology/bibo/Book>]"
      ]
     },
     "execution_count": 2,
     "metadata": {},
     "output_type": "execute_result"
    }
   ],
   "source": [
    " objects = (result |> SPARQL.Query.Result.get(:o) )"
   ]
  },
  {
   "cell_type": "code",
   "execution_count": null,
   "metadata": {},
   "outputs": [
    {
     "name": "stdout",
     "output_type": "stream",
     "text": [
      "[~I<https://twitter.com/bgmarx>, ~I<https://twitter.com/josevalim>,\n",
      " ~I<https://twitter.com/redrapids>,\n",
      " %RDF.Literal{value: ~D[2018-03-14], datatype: ~I<http://www.w3.org/2001/XMLSchema#date>},\n",
      " ~L\"Paper\", ~I<https://pragprog.com/>, ~L\"Adopting Elixir\"en,\n",
      " ~I<http://purl.org/ontology/bibo/Book>]\n"
     ]
    },
    {
     "data": {
      "text/plain": [
       "[~I<https://twitter.com/bgmarx>, ~I<https://twitter.com/josevalim>, ~I<https://twitter.com/redrapids>, %RDF.Literal{value: ~D[2018-03-14], datatype: ~I<http://www.w3.org/2001/XMLSchema#date>}, ~L\"Paper\", ~I<https://pragprog.com/>, ~L\"Adopting Elixir\"en, ~I<http://purl.org/ontology/bibo/Book>]"
      ]
     },
     "execution_count": 3,
     "metadata": {},
     "output_type": "execute_result"
    }
   ],
   "source": [
    "IO.inspect objects"
   ]
  },
  {
   "cell_type": "code",
   "execution_count": null,
   "metadata": {},
   "outputs": [],
   "source": []
  },
  {
   "cell_type": "code",
   "execution_count": null,
   "metadata": {},
   "outputs": [
    {
     "data": {
      "text/plain": [
       "[~I<https://twitter.com/bgmarx>, ~I<https://twitter.com/josevalim>, ~I<https://twitter.com/redrapids>, %RDF.Literal{value: ~D[2018-03-14], datatype: ~I<http://www.w3.org/2001/XMLSchema#date>}, ~L\"Paper\", ~I<https://pragprog.com/>, ~L\"Adopting Elixir\"en, ~I<http://purl.org/ontology/bibo/Book>]"
      ]
     },
     "execution_count": 3,
     "metadata": {},
     "output_type": "execute_result"
    }
   ],
   "source": [
    "objects"
   ]
  },
  {
   "cell_type": "code",
   "execution_count": null,
   "metadata": {},
   "outputs": [],
   "source": []
  },
  {
   "cell_type": "code",
   "execution_count": null,
   "metadata": {},
   "outputs": [],
   "source": []
  },
  {
   "cell_type": "code",
   "execution_count": null,
   "metadata": {},
   "outputs": [
    {
     "data": {
      "text/plain": [
       "[~I<https://twitter.com/bgmarx>, ~I<https://twitter.com/josevalim>, ~I<https://twitter.com/redrapids>, %RDF.Literal{value: ~D[2018-03-14], datatype: ~I<http://www.w3.org/2001/XMLSchema#date>}, ~L\"Paper\", ~I<https://pragprog.com/>, ~L\"Adopting Elixir\"en, ~I<http://purl.org/ontology/bibo/Book>]"
      ]
     },
     "execution_count": 4,
     "metadata": {},
     "output_type": "execute_result"
    }
   ],
   "source": [
    "objects"
   ]
  },
  {
   "cell_type": "code",
   "execution_count": null,
   "metadata": {},
   "outputs": [],
   "source": [
    "IO.puts objects"
   ]
  },
  {
   "cell_type": "code",
   "execution_count": 1,
   "metadata": {},
   "outputs": [
    {
     "ename": "CompileError",
     "evalue": "1",
     "execution_count": 1,
     "output_type": "error",
     "traceback": [
      "** (CompileError) console:1 \"undefined function objects/0\""
     ]
    }
   ],
   "source": [
    "objects"
   ]
  },
  {
   "cell_type": "code",
   "execution_count": null,
   "metadata": {},
   "outputs": [],
   "source": []
  },
  {
   "cell_type": "code",
   "execution_count": null,
   "metadata": {},
   "outputs": [],
   "source": []
  },
  {
   "cell_type": "code",
   "execution_count": 1,
   "metadata": {},
   "outputs": [
    {
     "ename": "CompileError",
     "evalue": "1",
     "execution_count": 1,
     "output_type": "error",
     "traceback": [
      "** (CompileError) console:1 \"undefined function result/0\""
     ]
    }
   ],
   "source": [
    "result"
   ]
  },
  {
   "cell_type": "code",
   "execution_count": null,
   "metadata": {},
   "outputs": [],
   "source": []
  },
  {
   "cell_type": "code",
   "execution_count": null,
   "metadata": {},
   "outputs": [],
   "source": []
  },
  {
   "cell_type": "code",
   "execution_count": null,
   "metadata": {},
   "outputs": [],
   "source": [
    "objects |> IO.puts"
   ]
  },
  {
   "cell_type": "code",
   "execution_count": null,
   "metadata": {},
   "outputs": [],
   "source": []
  },
  {
   "cell_type": "code",
   "execution_count": 1,
   "metadata": {},
   "outputs": [
    {
     "ename": "CompileError",
     "evalue": "1",
     "execution_count": 1,
     "output_type": "error",
     "traceback": [
      "** (CompileError) console:1 \"undefined function objects/0\""
     ]
    }
   ],
   "source": [
    "objects"
   ]
  },
  {
   "cell_type": "code",
   "execution_count": null,
   "metadata": {},
   "outputs": [],
   "source": []
  },
  {
   "cell_type": "code",
   "execution_count": null,
   "metadata": {},
   "outputs": [],
   "source": []
  },
  {
   "cell_type": "code",
   "execution_count": null,
   "metadata": {},
   "outputs": [],
   "source": []
  },
  {
   "cell_type": "code",
   "execution_count": null,
   "metadata": {},
   "outputs": [],
   "source": []
  },
  {
   "cell_type": "code",
   "execution_count": 1,
   "metadata": {},
   "outputs": [
    {
     "ename": "CompileError",
     "evalue": "1",
     "execution_count": 1,
     "output_type": "error",
     "traceback": [
      "** (CompileError) console:1 \"undefined function query/0\""
     ]
    }
   ],
   "source": [
    "query"
   ]
  },
  {
   "cell_type": "code",
   "execution_count": null,
   "metadata": {},
   "outputs": [],
   "source": []
  },
  {
   "cell_type": "code",
   "execution_count": null,
   "metadata": {},
   "outputs": [
    {
     "name": "stdout",
     "output_type": "stream",
     "text": [
      "__using__/1                app_dir/1                  app_dir/2                  \n",
      "delete_env/2               delete_env/3               ensure_all_started/1       \n",
      "ensure_all_started/2       ensure_started/1           ensure_started/2           \n",
      "fetch_env/2                fetch_env!/2               format_error/1             \n",
      "get_all_env/1              get_application/1          get_env/2                  \n",
      "get_env/3                  load/1                     loaded_applications/0      \n",
      "put_env/3                  put_env/4                  spec/1                     \n",
      "spec/2                     start/1                    start/2                    \n",
      "started_applications/0     started_applications/1     stop/1                     \n",
      "unload/1                   \n"
     ]
    }
   ],
   "source": [
    "exports Application"
   ]
  },
  {
   "cell_type": "code",
   "execution_count": null,
   "metadata": {},
   "outputs": [
    {
     "data": {
      "text/plain": [
       "[{:sqlite_ecto, 'SQLite3 adapter for Ecto', '1.1.0'}, {:poolboy, 'A hunky Erlang worker pool factory', '1.5.1'}, {:stdlib, 'ERTS  CXC 138 10', '3.5.1'}, {:iex, 'iex', '1.7.3'}, {:inets, 'INETS  CXC 138 49', '7.0.1'}, {:hex, 'hex', '0.18.1'}, {:elixir, 'elixir', '1.7.3'}, {:logger, 'logger', '1.7.3'}, {:ecto, 'Ecto is a domain specific language for writing queries and interacting with databases in Elixir.\\n', '1.1.9'}, {:kernel, 'ERTS  CXC 138 10', '6.0'}, {:public_key, 'Public key infrastructure', '1.6.1'}, {:mix, 'mix', '1.7.3'}, {:ssl, 'Erlang/OTP SSL application', '9.0.1'}, {:uuid, 'Erlang UUID Implementation', '1.7.2'}, {:poison, 'The fastest JSON library for Elixir', '1.5.2'}, {:quickrand, 'Quick Random Number Generation', '1.7.2'}, {:compiler, 'ERTS  CXC 138 10', '7.2.3'}, {:erlzmq, 'Erlang ZeroMQ Driver', '3.0'}, {:asn1, 'The Erlang ASN1 compiler version 5.0.6', '5.0.6'}, {:crypto, 'CRYPTO', '4.3.2'}, {:ielixir, 'Jupyter\\'s kernel for Elixir programming language\\n', '0.9.14'}, {:sqlitex, '  A thin Elixir wrapper around esqlite\\n', '0.8.0'}, {:decimal, 'Arbitrary precision decimal arithmetic for Elixir.\\n', '1.1.2'}]"
      ]
     },
     "execution_count": 2,
     "metadata": {},
     "output_type": "execute_result"
    }
   ],
   "source": [
    "Application.loaded_applications"
   ]
  },
  {
   "cell_type": "code",
   "execution_count": null,
   "metadata": {},
   "outputs": [],
   "source": []
  },
  {
   "cell_type": "code",
   "execution_count": null,
   "metadata": {},
   "outputs": [],
   "source": []
  },
  {
   "cell_type": "code",
   "execution_count": null,
   "metadata": {},
   "outputs": [],
   "source": []
  },
  {
   "cell_type": "code",
   "execution_count": 1,
   "metadata": {},
   "outputs": [
    {
     "ename": "CompileError",
     "evalue": "1",
     "execution_count": 1,
     "output_type": "error",
     "traceback": [
      "** (CompileError) console:1 \"undefined function result/0\""
     ]
    }
   ],
   "source": [
    " result"
   ]
  },
  {
   "cell_type": "code",
   "execution_count": null,
   "metadata": {},
   "outputs": [],
   "source": []
  },
  {
   "cell_type": "code",
   "execution_count": null,
   "metadata": {},
   "outputs": [],
   "source": []
  },
  {
   "cell_type": "code",
   "execution_count": null,
   "metadata": {},
   "outputs": [],
   "source": []
  },
  {
   "cell_type": "code",
   "execution_count": null,
   "metadata": {},
   "outputs": [],
   "source": []
  },
  {
   "cell_type": "code",
   "execution_count": null,
   "metadata": {},
   "outputs": [],
   "source": []
  },
  {
   "cell_type": "code",
   "execution_count": null,
   "metadata": {},
   "outputs": [
    {
     "data": {
      "text/plain": [
       "[{:sqlite_ecto, 'SQLite3 adapter for Ecto', '1.1.0'}, {:poolboy, 'A hunky Erlang worker pool factory', '1.5.1'}, {:stdlib, 'ERTS  CXC 138 10', '3.5.1'}, {:iex, 'iex', '1.7.3'}, {:inets, 'INETS  CXC 138 49', '7.0.1'}, {:hex, 'hex', '0.18.1'}, {:elixir, 'elixir', '1.7.3'}, {:logger, 'logger', '1.7.3'}, {:ecto, 'Ecto is a domain specific language for writing queries and interacting with databases in Elixir.\\n', '1.1.9'}, {:kernel, 'ERTS  CXC 138 10', '6.0'}, {:public_key, 'Public key infrastructure', '1.6.1'}, {:mix, 'mix', '1.7.3'}, {:ssl, 'Erlang/OTP SSL application', '9.0.1'}, {:uuid, 'Erlang UUID Implementation', '1.7.2'}, {:compiler, 'ERTS  CXC 138 10', '7.2.3'}, {:poison, 'The fastest JSON library for Elixir', '1.5.2'}, {:quickrand, 'Quick Random Number Generation', '1.7.2'}, {:erlzmq, 'Erlang ZeroMQ Driver', '3.0'}, {:asn1, 'The Erlang ASN1 compiler version 5.0.6', '5.0.6'}, {:crypto, 'CRYPTO', '4.3.2'}, {:ielixir, 'Jupyter\\'s kernel for Elixir programming language\\n', '0.9.14'}, {:sqlitex, '  A thin Elixir wrapper around esqlite\\n', '0.8.0'}, {:decimal, 'Arbitrary precision decimal arithmetic for Elixir.\\n', '1.1.2'}]"
      ]
     },
     "execution_count": 7,
     "metadata": {},
     "output_type": "execute_result"
    }
   ],
   "source": [
    "Application.loaded_applications"
   ]
  },
  {
   "cell_type": "code",
   "execution_count": null,
   "metadata": {},
   "outputs": [],
   "source": []
  },
  {
   "cell_type": "code",
   "execution_count": null,
   "metadata": {},
   "outputs": [
    {
     "name": "stdout",
     "output_type": "stream",
     "text": [
      "__using__/1                app_dir/1                  app_dir/2                  \n",
      "delete_env/2               delete_env/3               ensure_all_started/1       \n",
      "ensure_all_started/2       ensure_started/1           ensure_started/2           \n",
      "fetch_env/2                fetch_env!/2               format_error/1             \n",
      "get_all_env/1              get_application/1          get_env/2                  \n",
      "get_env/3                  load/1                     loaded_applications/0      \n",
      "put_env/3                  put_env/4                  spec/1                     \n",
      "spec/2                     start/1                    start/2                    \n",
      "started_applications/0     started_applications/1     stop/1                     \n",
      "unload/1                   \n"
     ]
    }
   ],
   "source": [
    "exports Application"
   ]
  },
  {
   "cell_type": "code",
   "execution_count": null,
   "metadata": {},
   "outputs": [
    {
     "data": {
      "text/plain": [
       "{:error, {'no such file or directory', 'test_query.app'}}"
      ]
     },
     "execution_count": 9,
     "metadata": {},
     "output_type": "execute_result"
    }
   ],
   "source": [
    "Application.load(:test_query)"
   ]
  },
  {
   "cell_type": "code",
   "execution_count": 11,
   "metadata": {},
   "outputs": [
    {
     "ename": "FunctionClauseError",
     "evalue": "1",
     "execution_count": 11,
     "output_type": "error",
     "traceback": [
      "** %FunctionClauseError{args: nil, arity: 1, clauses: nil, function: :load, kind: nil, module: Application}"
     ]
    }
   ],
   "source": [
    "Application.load(\"/Users/tony/Projects/local/elixir/examples/test_query/_build/dev/lib/test_query/ebin/test_query.app\")"
   ]
  },
  {
   "cell_type": "code",
   "execution_count": null,
   "metadata": {},
   "outputs": [],
   "source": []
  },
  {
   "cell_type": "code",
   "execution_count": null,
   "metadata": {},
   "outputs": [],
   "source": [
    "Application."
   ]
  },
  {
   "cell_type": "code",
   "execution_count": null,
   "metadata": {},
   "outputs": [],
   "source": []
  },
  {
   "cell_type": "code",
   "execution_count": null,
   "metadata": {},
   "outputs": [
    {
     "name": "stdout",
     "output_type": "stream",
     "text": [
      "\u001b[0m\n",
      "\u001b[7m\u001b[33m                                 def load(app)                                  \u001b[0m\n",
      "\u001b[0m\n",
      "  \u001b[36m@spec\u001b[0m load(app()) :: :ok | {:error, term()}\n",
      "\n",
      "Loads the given \u001b[36mapp\u001b[0m.\n",
      "\u001b[0m\n",
      "In order to be loaded, an \u001b[36m.app\u001b[0m file must be in the load paths. All\n",
      "\u001b[36m:included_applications\u001b[0m will also be loaded.\n",
      "\u001b[0m\n",
      "Loading the application does not start it nor load its modules, but it does\n",
      "load its environment.\n",
      "\u001b[0m\n"
     ]
    }
   ],
   "source": [
    "h Application.load"
   ]
  },
  {
   "cell_type": "code",
   "execution_count": null,
   "metadata": {},
   "outputs": [],
   "source": []
  },
  {
   "cell_type": "code",
   "execution_count": null,
   "metadata": {},
   "outputs": [],
   "source": []
  },
  {
   "cell_type": "code",
   "execution_count": null,
   "metadata": {},
   "outputs": [],
   "source": []
  },
  {
   "cell_type": "code",
   "execution_count": null,
   "metadata": {},
   "outputs": [
    {
     "name": "stdout",
     "output_type": "stream",
     "text": [
      "activate/1             active_env_name/0      child_spec/1           code_change/3          \n",
      "deactivate/0           environment_path/0     freeze/0               handle_call/3          \n",
      "handle_cast/2          handle_info/2          init/1                 install/1              \n",
      "list/0                 mk/1                   paths/0                reinstall/0            \n",
      "rm/1                   start_link/1           state/0                terminate/2            \n"
     ]
    }
   ],
   "source": [
    "exports Boyle\n"
   ]
  },
  {
   "cell_type": "code",
   "execution_count": null,
   "metadata": {},
   "outputs": [],
   "source": []
  }
 ],
 "metadata": {
  "kernelspec": {
   "display_name": "Elixir",
   "language": "Elixir",
   "name": "ielixir"
  },
  "language_info": {
   "codemirror_mode": "elixir",
   "file_extension": "ex",
   "mimetype": "text/x-elixir",
   "name": "elixir",
   "nbconvert_exporter": "",
   "pygments_lexer": "elixir",
   "version": "#Version<1.7.3>"
  }
 },
 "nbformat": 4,
 "nbformat_minor": 2
}
