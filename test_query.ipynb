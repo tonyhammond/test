{
 "cells": [
  {
   "cell_type": "markdown",
   "metadata": {},
   "source": [
    "# TestQuery Notebook"
   ]
  },
  {
   "cell_type": "markdown",
   "metadata": {},
   "source": [
    "This is a test notebook to accompany the following post:\n",
    "\n",
    "[\n",
    "![medium-post](../../priv/images/medium-post-jupyter-notebooks.png)\n",
    "](https://https://medium.com/@tonyhammond/latest)\n",
    "\n",
    "In this notebook we shall be using [IElixir](https://github.com/pprzetacznik/IElixir) which implements a Jupyter kernel for Elixir. We'll also be using the Elixir package [SPARQL.Client](https://hex.pm/packages/sparql_client) which provides support for SPARQL querying over RDF datastores. For further information on notebook format and architecture see the [Jupyter Notebook](http://jupyter.org/) project site.\n",
    "\n",
    "[\n",
    "![jupyter](../../priv/images/jupyter.png)\n",
    "](http://jupyter.org/)\n",
    "\n",
    "Here's a quick overview of our action plan:\n",
    "\n",
    "1. Creating the project\n",
    "2. Setting up the environment\n",
    "3. Running basic SPARQL.Client queries\n",
    "4. Installing our TestQuery modules\n",
    "5. Testing it out\n"
   ]
  },
  {
   "cell_type": "markdown",
   "metadata": {},
   "source": [
    "## _A couple caveats first_"
   ]
  },
  {
   "cell_type": "markdown",
   "metadata": {},
   "source": [
    "* _I am still very new to all this and not sure how best to configure IElixir for `Mix` projects. As a consequence I wasn't able to get the project tree and attributes loaded automatically but had to resort to loading the modules individually. I also wasn't able to use the `Mix` `config.ex` file which would have allowed me to select for an alternative HTTP client, e.g. `hackney`, instead of the default `httpc` client. This meant that the default HTTP method and protocol needed to be overridden._\n",
    "\n",
    "* _That aside, it all seems to work well enough. Although I am pretty sure it could be made to work even better._ "
   ]
  },
  {
   "cell_type": "markdown",
   "metadata": {},
   "source": [
    "## 1. Creating the project"
   ]
  },
  {
   "cell_type": "markdown",
   "metadata": {},
   "source": [
    "We're going to be working with the `test_query` project from an earlier post:\n",
    "\n",
    "[\n",
    "![medium-post](../../priv/images/medium-post-querying-rdf.png)\n",
    "](https://medium.com/@tonyhammond/querying-rdf-with-elixir-2378b39d65cc)\n",
    "\n",
    "Now, we may have to make some changes to the original `TestQuery` modules so we'll make a copy of the `test_query` project and name this new project as `test_ipynb`.\n",
    "\n",
    "We'll also name this notebook as `test_query.ipynb` and keep it under a new `priv/notebooks/` directory."
   ]
  },
  {
   "cell_type": "markdown",
   "metadata": {},
   "source": [
    "## 2. Setting up the environment\n"
   ]
  },
  {
   "cell_type": "markdown",
   "metadata": {},
   "source": [
    "&#x279C; ** Create `sparql_env`.**\n",
    "\n",
    "IElixir uses the concept of virtual environments for managing packages. It uses [`Boyle`](https://github.com/pprzetacznik/IElixir#package-management-with-boyle) as its package manager.\n",
    "\n",
    "Let's first create a `sparql_env` environment for our SPARQL dependencies using `Boyle.mk/1`. (Note also that there is a previously created an `rdf_env` environment set up for separately exploring [RDF.ex](https://hex.pm/packages/rdf) which we can just ignore.)"
   ]
  },
  {
   "cell_type": "code",
   "execution_count": 1,
   "metadata": {},
   "outputs": [
    {
     "name": "stdout",
     "output_type": "stream",
     "text": [
      "All dependencies up to date\n"
     ]
    },
    {
     "data": {
      "text/plain": [
       "{:ok, [\"rdf_env\", \"sparql_env\"]}"
      ]
     },
     "execution_count": 1,
     "metadata": {},
     "output_type": "execute_result"
    }
   ],
   "source": [
    "Boyle.mk(\"sparql_env\")"
   ]
  },
  {
   "cell_type": "markdown",
   "metadata": {},
   "source": [
    "&#x279C; **Activate the environment.**\n",
    "\n",
    "Next step is to activate the environment which will take care of compiling."
   ]
  },
  {
   "cell_type": "code",
   "execution_count": 2,
   "metadata": {},
   "outputs": [
    {
     "data": {
      "text/plain": [
       "{:ok, [\"rdf_env\", \"sparql_env\"]}"
      ]
     },
     "execution_count": 2,
     "metadata": {},
     "output_type": "execute_result"
    }
   ],
   "source": [
    "Boyle.list"
   ]
  },
  {
   "cell_type": "code",
   "execution_count": 3,
   "metadata": {},
   "outputs": [
    {
     "name": "stdout",
     "output_type": "stream",
     "text": [
      "All dependencies up to date\n"
     ]
    },
    {
     "data": {
      "text/plain": [
       ":ok"
      ]
     },
     "execution_count": 3,
     "metadata": {},
     "output_type": "execute_result"
    }
   ],
   "source": [
    "Boyle.activate(\"sparql_env\")"
   ]
  },
  {
   "cell_type": "markdown",
   "metadata": {},
   "source": [
    "And we can double check that this is the current environment."
   ]
  },
  {
   "cell_type": "code",
   "execution_count": 4,
   "metadata": {},
   "outputs": [
    {
     "data": {
      "text/plain": [
       "\"sparql_env\""
      ]
     },
     "execution_count": 4,
     "metadata": {},
     "output_type": "execute_result"
    }
   ],
   "source": [
    "Boyle.active_env_name"
   ]
  },
  {
   "cell_type": "markdown",
   "metadata": {},
   "source": [
    "&#x279C; **Install `sparql_client` dependencies.**\n",
    "\n",
    "Next we install out dependencies."
   ]
  },
  {
   "cell_type": "code",
   "execution_count": 5,
   "metadata": {},
   "outputs": [
    {
     "name": "stdout",
     "output_type": "stream",
     "text": [
      "Resolving Hex dependencies...\n",
      "Dependency resolution completed:\n",
      "Unchanged:\n",
      "\u001b[32m  content_type 0.1.0\u001b[0m\n",
      "\u001b[32m  decimal 1.5.0\u001b[0m\n",
      "\u001b[32m  elixir_uuid 1.2.0\u001b[0m\n",
      "\u001b[32m  jason 1.1.2\u001b[0m\n",
      "\u001b[32m  json_ld 0.3.0\u001b[0m\n",
      "\u001b[32m  mime 1.3.0\u001b[0m\n",
      "\u001b[32m  nimble_csv 0.4.0\u001b[0m\n",
      "\u001b[32m  rdf 0.5.1\u001b[0m\n",
      "\u001b[32m  sparql 0.2.5\u001b[0m\n",
      "\u001b[32m  sparql_client 0.2.1\u001b[0m\n",
      "\u001b[32m  sweet_xml 0.6.5\u001b[0m\n",
      "\u001b[32m  tesla 1.1.0\u001b[0m\n",
      "All dependencies up to date\n"
     ]
    },
    {
     "data": {
      "text/plain": [
       ":ok"
      ]
     },
     "execution_count": 5,
     "metadata": {},
     "output_type": "execute_result"
    }
   ],
   "source": [
    "Boyle.install({:sparql_client, \"~> 0.2.1\"})"
   ]
  },
  {
   "cell_type": "markdown",
   "metadata": {},
   "source": [
    "&#x279C; **And check our package.**\n",
    "\n",
    "And lastly let's just sanity check that we do indeed have the `SPARQL.Client` module installed."
   ]
  },
  {
   "cell_type": "code",
   "execution_count": 6,
   "metadata": {},
   "outputs": [
    {
     "name": "stdout",
     "output_type": "stream",
     "text": [
      "__adapter__/0               __middleware__/0            default_accept_header/1     \n",
      "delete/1                    delete/2                    delete/3                    \n",
      "delete!/1                   delete!/2                   delete!/3                   \n",
      "get/1                       get/2                       get/3                       \n",
      "get!/1                      get!/2                      get!/3                      \n",
      "head/1                      head/2                      head/3                      \n",
      "head!/1                     head!/2                     head!/3                     \n",
      "options/1                   options/2                   options/3                   \n",
      "options!/1                  options!/2                  options!/3                  \n",
      "patch/2                     patch/3                     patch/4                     \n",
      "patch!/2                    patch!/3                    patch!/4                    \n",
      "post/2                      post/3                      post/4                      \n",
      "post!/2                     post!/3                     post!/4                     \n",
      "put/2                       put/3                       put/4                       \n",
      "put!/2                      put!/3                      put!/4                      \n",
      "query/2                     query/3                     request/1                   \n",
      "request/2                   request!/1                  request!/2                  \n",
      "trace/1                     trace/2                     trace/3                     \n",
      "trace!/1                    trace!/2                    trace!/3                    \n"
     ]
    }
   ],
   "source": [
    "exports SPARQL.Client"
   ]
  },
  {
   "cell_type": "markdown",
   "metadata": {},
   "source": [
    "Looks good."
   ]
  },
  {
   "cell_type": "markdown",
   "metadata": {},
   "source": [
    "## 3. Running basic SPARQL.Client queries"
   ]
  },
  {
   "cell_type": "markdown",
   "metadata": {},
   "source": [
    "&#x279C; **Let's try out a simple query.**\n",
    "\n",
    "\n",
    "Let's choose a SPARQL endpoint. The ever-trusty [DBpedia](https://wiki.dbpedia.org/) will make for a good fallback."
   ]
  },
  {
   "cell_type": "code",
   "execution_count": 7,
   "metadata": {},
   "outputs": [
    {
     "data": {
      "text/plain": [
       "\"http://dbpedia.org/sparql\""
      ]
     },
     "execution_count": 7,
     "metadata": {},
     "output_type": "execute_result"
    }
   ],
   "source": [
    "service = \"http://dbpedia.org/sparql\""
   ]
  },
  {
   "cell_type": "markdown",
   "metadata": {},
   "source": [
    "And we'll create a basic SPARQL query to retrieve one triple."
   ]
  },
  {
   "cell_type": "code",
   "execution_count": 8,
   "metadata": {},
   "outputs": [
    {
     "data": {
      "text/plain": [
       "\"select * where {?s ?p ?o} limit 1\""
      ]
     },
     "execution_count": 8,
     "metadata": {},
     "output_type": "execute_result"
    }
   ],
   "source": [
    "query = \"select * where {?s ?p ?o} limit 1\""
   ]
  },
  {
   "cell_type": "markdown",
   "metadata": {},
   "source": [
    "&#x279C; **First query try gives error.**"
   ]
  },
  {
   "cell_type": "code",
   "execution_count": 9,
   "metadata": {},
   "outputs": [
    {
     "data": {
      "text/plain": [
       "{:error, \"unsupported result format for select query: \\\"text/html; charset=UTF-8\\\"\"}"
      ]
     },
     "execution_count": 9,
     "metadata": {},
     "output_type": "execute_result"
    }
   ],
   "source": [
    "SPARQL.Client.query(query, service)"
   ]
  },
  {
   "cell_type": "markdown",
   "metadata": {},
   "source": [
    "&#x279C; **Let's check out the documentation.**\n",
    "\n",
    "Uncomment this line and run to see the help documentation for `SPARQL.Client.query`."
   ]
  },
  {
   "cell_type": "code",
   "execution_count": 10,
   "metadata": {},
   "outputs": [
    {
     "data": {
      "text/plain": [
       "nil"
      ]
     },
     "execution_count": 10,
     "metadata": {},
     "output_type": "execute_result"
    }
   ],
   "source": [
    "# h SPARQL.Client.query"
   ]
  },
  {
   "cell_type": "markdown",
   "metadata": {},
   "source": [
    "We see that there are three supported access methods:\n",
    "\n",
    "* `GET`, `SPARQL 1.1`\n",
    "* `POST` (URL-encoded), `SPARQL 1.0` -  _default_\n",
    "* `POST`, `SPARQL 1.1`\n",
    "\n",
    "Since the default URL-encoded `POST` method does not work for this `service`, let's try the `GET` method."
   ]
  },
  {
   "cell_type": "markdown",
   "metadata": {},
   "source": [
    "&#x279C; **Second try succeeds – after setting :request_method (and :protocol_version).**"
   ]
  },
  {
   "cell_type": "code",
   "execution_count": 11,
   "metadata": {},
   "outputs": [
    {
     "data": {
      "text/plain": [
       "{:ok, %SPARQL.Query.Result{results: [%{\"o\" => ~I<http://www.openlinksw.com/schemas/virtrdf#QuadMapFormat>, \"p\" => ~I<http://www.w3.org/1999/02/22-rdf-syntax-ns#type>, \"s\" => ~I<http://www.openlinksw.com/virtrdf-data-formats#default-iid>}], variables: [\"s\", \"p\", \"o\"]}}"
      ]
     },
     "execution_count": 11,
     "metadata": {},
     "output_type": "execute_result"
    }
   ],
   "source": [
    "SPARQL.Client.query(query, service, request_method: :get, protocol_version: \"1.1\")"
   ]
  },
  {
   "cell_type": "markdown",
   "metadata": {},
   "source": [
    "Hey, that works! Let's run it again and capture the result this time."
   ]
  },
  {
   "cell_type": "code",
   "execution_count": 12,
   "metadata": {},
   "outputs": [
    {
     "data": {
      "text/plain": [
       "{:ok, %SPARQL.Query.Result{results: [%{\"o\" => ~I<http://www.openlinksw.com/schemas/virtrdf#QuadMapFormat>, \"p\" => ~I<http://www.w3.org/1999/02/22-rdf-syntax-ns#type>, \"s\" => ~I<http://www.openlinksw.com/virtrdf-data-formats#default-iid>}], variables: [\"s\", \"p\", \"o\"]}}"
      ]
     },
     "execution_count": 12,
     "metadata": {},
     "output_type": "execute_result"
    }
   ],
   "source": [
    "{:ok, result} = SPARQL.Client.query(query, service, request_method: :get, protocol_version: \"1.1\")"
   ]
  },
  {
   "cell_type": "code",
   "execution_count": 13,
   "metadata": {},
   "outputs": [
    {
     "name": "stdout",
     "output_type": "stream",
     "text": [
      "[~I<http://www.w3.org/1999/02/22-rdf-syntax-ns#type>]\n"
     ]
    },
    {
     "data": {
      "text/plain": [
       "[~I<http://www.w3.org/1999/02/22-rdf-syntax-ns#type>]"
      ]
     },
     "execution_count": 13,
     "metadata": {},
     "output_type": "execute_result"
    }
   ],
   "source": [
    "result |> SPARQL.Query.Result.get(:p) |> IO.inspect"
   ]
  },
  {
   "cell_type": "markdown",
   "metadata": {},
   "source": [
    "Time for something more interesting. Let's try out our earlier `TestQuery` package."
   ]
  },
  {
   "cell_type": "markdown",
   "metadata": {},
   "source": [
    "## 4. Installing our TestQuery modules"
   ]
  },
  {
   "cell_type": "markdown",
   "metadata": {},
   "source": [
    "&#x279C; **Install TestQuery**\n",
    "\n",
    "Is our `TestQuery` module loaded?"
   ]
  },
  {
   "cell_type": "code",
   "execution_count": 14,
   "metadata": {},
   "outputs": [
    {
     "ename": "UndefinedFunctionError",
     "evalue": "1",
     "execution_count": 14,
     "output_type": "error",
     "traceback": [
      "** %UndefinedFunctionError{arity: 1, function: :module_info, message: nil, module: TestQuery, reason: nil}"
     ]
    }
   ],
   "source": [
    "exports TestQuery"
   ]
  },
  {
   "cell_type": "markdown",
   "metadata": {},
   "source": [
    "That'll be a no, then. So, let's explicitly import the module. We'll try calling the original `TestQuery` module first from the `test_query` project."
   ]
  },
  {
   "cell_type": "code",
   "execution_count": 14,
   "metadata": {},
   "outputs": [
    {
     "ename": "Protocol.UndefinedError",
     "evalue": "1",
     "execution_count": 14,
     "output_type": "error",
     "traceback": [
      "** %Protocol.UndefinedError{description: \"\", protocol: String.Chars, value: {:error, :bad_name}}"
     ]
    }
   ],
   "source": [
    "import_file(\"../../tonyhammond/examples/test_query/lib/test_query.ex\")"
   ]
  },
  {
   "cell_type": "markdown",
   "metadata": {},
   "source": [
    "Rats!"
   ]
  },
  {
   "cell_type": "markdown",
   "metadata": {},
   "source": [
    "Turns out that the call `:code.priv_dir(:test_query)}` is failing. This is aiming to locate the `priv/` directory for the application `:test_query`, but as we did not manage to load this through `Mix` we haven't created this application.\n",
    "\n",
    "Let's just replace that with a relative path in our `test_ipynb` project copy.\n",
    "\n",
    "```\n",
    "  # @data_dir \"#{:code.priv_dir(:test_query)}/data/\"\n",
    "  @data_dir \"../tonyhammond/examples/test_ipynb/priv/data/\"\n",
    "```\n",
    "\n",
    "And let's try again but this time reading from the `test_ipynb` project."
   ]
  },
  {
   "cell_type": "code",
   "execution_count": 14,
   "metadata": {},
   "outputs": [
    {
     "data": {
      "text/plain": [
       "{:module, TestQuery, <<70, 79, 82, 49, 0, 0, 7, 68, 66, 69, 65, 77, 65, 116, 85, 56, 0, 0, 0, 191, 0, 0, 0, 18, 16, 69, 108, 105, 120, 105, 114, 46, 84, 101, 115, 116, 81, 117, 101, 114, 121, 8, 95, 95, 105, 110, 102, ...>>, {:query, 2}}"
      ]
     },
     "execution_count": 14,
     "metadata": {},
     "output_type": "execute_result"
    }
   ],
   "source": [
    "import_file(\"../../tonyhammond/examples/test_ipynb/lib/test_query.ex\")"
   ]
  },
  {
   "cell_type": "markdown",
   "metadata": {},
   "source": [
    "And let's sanity check."
   ]
  },
  {
   "cell_type": "code",
   "execution_count": 15,
   "metadata": {},
   "outputs": [
    {
     "name": "stdout",
     "output_type": "stream",
     "text": [
      "data/0      query/0     query/1     query/2     \n"
     ]
    }
   ],
   "source": [
    "exports TestQuery"
   ]
  },
  {
   "cell_type": "markdown",
   "metadata": {},
   "source": [
    "Success!"
   ]
  },
  {
   "cell_type": "markdown",
   "metadata": {},
   "source": [
    "&#x279C; **Install TestQuery.Client.** \n",
    "\n",
    "Now let's import the `TestQuery.Client` module, again reading from the original `test_query` project."
   ]
  },
  {
   "cell_type": "code",
   "execution_count": 16,
   "metadata": {},
   "outputs": [
    {
     "ename": "Protocol.UndefinedError",
     "evalue": "1",
     "execution_count": 16,
     "output_type": "error",
     "traceback": [
      "** %Protocol.UndefinedError{description: \"\", protocol: String.Chars, value: {:error, :bad_name}}"
     ]
    }
   ],
   "source": [
    "import_file(\"../../tonyhammond/examples/test_query/lib/test_query/client.ex\")"
   ]
  },
  {
   "cell_type": "markdown",
   "metadata": {},
   "source": [
    "Same problem on `query-dir`. Similar fix to the `test_ipynb` project copy this time using an absolute path.\n",
    "\n",
    "```\n",
    "  # @query_dir \"#{:code.priv_dir(:test_query)}/queries/\"\n",
    "  @query_dir System.cwd <> \"/../../tonyhammond/examples/test_ipynb/priv/queries/\"\n",
    "```\n",
    "\n",
    "And let's try again but this time reading from the `test_ipynb` project."
   ]
  },
  {
   "cell_type": "code",
   "execution_count": 16,
   "metadata": {},
   "outputs": [
    {
     "data": {
      "text/plain": [
       "{:module, TestQuery.Client, <<70, 79, 82, 49, 0, 0, 26, 84, 66, 69, 65, 77, 65, 116, 85, 56, 0, 0, 2, 223, 0, 0, 0, 71, 23, 69, 108, 105, 120, 105, 114, 46, 84, 101, 115, 116, 81, 117, 101, 114, 121, 46, 67, 108, 105, 101, 110, ...>>, {:_read_tuple, 1}}"
      ]
     },
     "execution_count": 16,
     "metadata": {},
     "output_type": "execute_result"
    }
   ],
   "source": [
    "import_file(\"../../tonyhammond/examples/test_ipynb/lib/test_query/client.ex\")"
   ]
  },
  {
   "cell_type": "markdown",
   "metadata": {},
   "source": [
    "And again sanity check."
   ]
  },
  {
   "cell_type": "code",
   "execution_count": 17,
   "metadata": {},
   "outputs": [
    {
     "name": "stdout",
     "output_type": "stream",
     "text": [
      "get_query/0          get_query_opts/0     get_service/0        hello/0              \n",
      "read_table/1         rquery/0             rquery/1             rquery/2             \n",
      "rquery_all/0         \n"
     ]
    }
   ],
   "source": [
    "exports TestQuery.Client"
   ]
  },
  {
   "cell_type": "markdown",
   "metadata": {},
   "source": [
    "&#x279C; **Update TestQuery.Client query functions.** \n",
    "\n",
    "But before we leave this we're going to update the `TestQuery.Client` query functions to use the working `:request_method` and `:protocol_version`.\n",
    "\n",
    "We'll save these into a module attribute `@query_opts` as:\n",
    "\n",
    "```\n",
    "  @query_opts request_method: :get, protocol_version: \"1.1\"\n",
    "```\n",
    "\n",
    "We'll then add this as an optional argument to all the `TestQuery.Client` query functions, e.g.\n",
    "\n",
    "```\n",
    "  def rquery() do\n",
    "    SPARQL.Client.query(@query, @service, @query_opts)\n",
    "  end\n",
    "```\n",
    "\n",
    "Also lastly we'll make this replacement in our `hello/0` function:\n",
    "\n",
    "```\n",
    "  # result.results |> Enum.each(&(IO.puts &1[\"o\"]))\n",
    "```\n",
    "\n",
    "which we will replace by the new `SPARQL.Query.Result.get/1` function.\n",
    "\n",
    "```\n",
    "  result |> SPARQL.Query.Result.get(:o)\n",
    "```\n",
    "\n",
    "which is a heck of a lot more readable."
   ]
  },
  {
   "cell_type": "markdown",
   "metadata": {},
   "source": [
    "And let's reimport the new `test_ipynb` project module."
   ]
  },
  {
   "cell_type": "code",
   "execution_count": 18,
   "metadata": {},
   "outputs": [
    {
     "data": {
      "text/plain": [
       "{:module, TestQuery.Client, <<70, 79, 82, 49, 0, 0, 26, 84, 66, 69, 65, 77, 65, 116, 85, 56, 0, 0, 2, 223, 0, 0, 0, 71, 23, 69, 108, 105, 120, 105, 114, 46, 84, 101, 115, 116, 81, 117, 101, 114, 121, 46, 67, 108, 105, 101, 110, ...>>, {:_read_tuple, 1}}"
      ]
     },
     "execution_count": 18,
     "metadata": {},
     "output_type": "execute_result"
    }
   ],
   "source": [
    "import_file(\"../../tonyhammond/examples/test_ipynb/lib/test_query/client.ex\")"
   ]
  },
  {
   "cell_type": "markdown",
   "metadata": {},
   "source": [
    "## 5. Testing it out"
   ]
  },
  {
   "cell_type": "markdown",
   "metadata": {},
   "source": [
    "&#x279C; **Now let's query**\n",
    "\n",
    "To simplify naming let's just import all the functions from our modules."
   ]
  },
  {
   "cell_type": "code",
   "execution_count": 19,
   "metadata": {},
   "outputs": [
    {
     "data": {
      "text/plain": [
       "TestQuery"
      ]
     },
     "execution_count": 19,
     "metadata": {},
     "output_type": "execute_result"
    }
   ],
   "source": [
    "import TestQuery"
   ]
  },
  {
   "cell_type": "code",
   "execution_count": 20,
   "metadata": {},
   "outputs": [
    {
     "data": {
      "text/plain": [
       "TestQuery.Client"
      ]
     },
     "execution_count": 20,
     "metadata": {},
     "output_type": "execute_result"
    }
   ],
   "source": [
    "import TestQuery.Client"
   ]
  },
  {
   "cell_type": "markdown",
   "metadata": {},
   "source": [
    "And let's try out our functions. First our simple 'Hello World' function:"
   ]
  },
  {
   "cell_type": "code",
   "execution_count": 21,
   "metadata": {},
   "outputs": [
    {
     "data": {
      "text/plain": [
       "[~L\"Hello World\"en]"
      ]
     },
     "execution_count": 21,
     "metadata": {},
     "output_type": "execute_result"
    }
   ],
   "source": [
    "[arg] = hello"
   ]
  },
  {
   "cell_type": "code",
   "execution_count": 22,
   "metadata": {},
   "outputs": [
    {
     "data": {
      "text/plain": [
       "\"Hello World\""
      ]
     },
     "execution_count": 22,
     "metadata": {},
     "output_type": "execute_result"
    }
   ],
   "source": [
    "arg.value"
   ]
  },
  {
   "cell_type": "markdown",
   "metadata": {},
   "source": [
    "Now for a single query test let's just copy a query string from one of our stored queries: `priv/queries/alberto.rq`."
   ]
  },
  {
   "cell_type": "code",
   "execution_count": 23,
   "metadata": {},
   "outputs": [
    {
     "data": {
      "text/plain": [
       "\"select *\\nwhere {\\n  bind (<http://dbpedia.org/resource/Hurricane_Alberto> as ?s)\\n  ?s ?p ?o\\n}\\n\""
      ]
     },
     "execution_count": 23,
     "metadata": {},
     "output_type": "execute_result"
    }
   ],
   "source": [
    "query = \"\"\"\n",
    "select *\n",
    "where {\n",
    "  bind (<http://dbpedia.org/resource/Hurricane_Alberto> as ?s)\n",
    "  ?s ?p ?o\n",
    "}\n",
    "\"\"\""
   ]
  },
  {
   "cell_type": "markdown",
   "metadata": {},
   "source": [
    "And let's try that `query` string on our `rquery/1` function."
   ]
  },
  {
   "cell_type": "code",
   "execution_count": 24,
   "metadata": {},
   "outputs": [
    {
     "name": "stdout",
     "output_type": "stream",
     "text": [
      "~L\"Hurricane Alberto\"en\n"
     ]
    },
    {
     "data": {
      "text/plain": [
       "~L\"Hurricane Alberto\"en"
      ]
     },
     "execution_count": 24,
     "metadata": {},
     "output_type": "execute_result"
    }
   ],
   "source": [
    "{:ok, result} = rquery(query)\n",
    "result\n",
    "|> SPARQL.Query.Result.get(:o)\n",
    "|> List.first\n",
    "|> IO.inspect"
   ]
  },
  {
   "cell_type": "markdown",
   "metadata": {},
   "source": [
    "And lastly let's try the multiple queries for hurricanes and store that data in separate ETS tables."
   ]
  },
  {
   "cell_type": "code",
   "execution_count": 25,
   "metadata": {},
   "outputs": [
    {
     "name": "stdout",
     "output_type": "stream",
     "text": [
      "Reading alberto.rq\n",
      "Writing Elixir.TestQuery.Client.alberto\n",
      "Reading beryl.rq\n",
      "Writing Elixir.TestQuery.Client.beryl\n",
      "Reading chris.rq\n",
      "Writing Elixir.TestQuery.Client.chris\n",
      "Reading debby.rq\n",
      "Writing Elixir.TestQuery.Client.debby\n",
      "Reading ernesto.rq\n",
      "Writing Elixir.TestQuery.Client.ernesto\n",
      "Reading florence.rq\n",
      "Writing Elixir.TestQuery.Client.florence\n",
      "Reading gordon.rq\n",
      "Writing Elixir.TestQuery.Client.gordon\n",
      "Reading helene.rq\n",
      "Writing Elixir.TestQuery.Client.helene\n"
     ]
    },
    {
     "data": {
      "text/plain": [
       "[:ok, :ok, :ok, :ok, :ok, :ok, :ok, :ok]"
      ]
     },
     "execution_count": 25,
     "metadata": {},
     "output_type": "execute_result"
    }
   ],
   "source": [
    "rquery_all"
   ]
  },
  {
   "cell_type": "markdown",
   "metadata": {},
   "source": [
    "And we can inspect the ETS (Erlang Term Storage) tables by calling the Observer which will open in a separate window as:"
   ]
  },
  {
   "cell_type": "code",
   "execution_count": 26,
   "metadata": {},
   "outputs": [
    {
     "data": {
      "text/plain": [
       ":ok"
      ]
     },
     "execution_count": 26,
     "metadata": {},
     "output_type": "execute_result"
    }
   ],
   "source": [
    ":observer.start"
   ]
  },
  {
   "cell_type": "markdown",
   "metadata": {},
   "source": [
    "All checks out. &#x1F44D;"
   ]
  },
  {
   "cell_type": "code",
   "execution_count": null,
   "metadata": {},
   "outputs": [],
   "source": []
  }
 ],
 "metadata": {
  "kernelspec": {
   "display_name": "Elixir",
   "language": "Elixir",
   "name": "ielixir"
  },
  "language_info": {
   "codemirror_mode": "elixir",
   "file_extension": "ex",
   "mimetype": "text/x-elixir",
   "name": "elixir",
   "nbconvert_exporter": "",
   "pygments_lexer": "elixir",
   "version": "#Version<1.7.3>"
  }
 },
 "nbformat": 4,
 "nbformat_minor": 2
}
